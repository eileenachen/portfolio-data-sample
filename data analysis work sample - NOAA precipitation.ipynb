{
 "cells": [
  {
   "cell_type": "markdown",
   "metadata": {},
   "source": [
    "# NOAA Precipitation Data\n",
    "### Leena Chen"
   ]
  },
  {
   "cell_type": "markdown",
   "metadata": {},
   "source": [
    "This is a brief excerpt of a R project completed for Applied Statistical Computing in spring 2020. In the project, I explored annual and decade precipitation data over time from three weather stations in Alabama. In this excerpt, I clean, format, and merge the data into a rectangular dataframe, which can be useful in a wide variety of applications. \n",
    "\n",
    "I've included a lot of markdown comments narrating my process to make this as accessible as possible. Feel free to read it if it's helpful, or feel free to just skip over it instead!\n",
    "\n",
    "The weather data used here was collected by NOAA: https://www.ncdc.noaa.gov/ushcn/introduction"
   ]
  },
  {
   "cell_type": "markdown",
   "metadata": {},
   "source": [
    "### Reading in and exploring the data"
   ]
  },
  {
   "cell_type": "code",
   "execution_count": 1,
   "metadata": {},
   "outputs": [],
   "source": [
    "metadata <- read.csv(\"C:/Users/eilee/Downloads/hw5_spatial/station_metadata.csv\")\n",
    "brewton_prcp <- read.csv(\"C:/Users/eilee/Downloads/hw5_spatial/USH00011084.prcp.csv\")\n",
    "fairhope_prcp <- read.csv(\"C:/Users/eilee/Downloads/hw5_spatial/USH00012813.prcp.csv\")\n",
    "gainesville_prcp <- read.csv(\"C:/Users/eilee/Downloads/hw5_spatial/USH00013160.prcp.csv\")"
   ]
  },
  {
   "cell_type": "code",
   "execution_count": 2,
   "metadata": {
    "scrolled": true
   },
   "outputs": [
    {
     "data": {
      "text/html": [
       "<ol class=list-inline>\n",
       "\t<li>'component_1'</li>\n",
       "\t<li>'component_2'</li>\n",
       "\t<li>'component_3'</li>\n",
       "\t<li>'coop_id'</li>\n",
       "\t<li>'country_code'</li>\n",
       "\t<li>'elevation'</li>\n",
       "\t<li>'id'</li>\n",
       "\t<li>'id_place_holder'</li>\n",
       "\t<li>'latitude'</li>\n",
       "\t<li>'longitude'</li>\n",
       "\t<li>'name'</li>\n",
       "\t<li>'network_code'</li>\n",
       "\t<li>'state'</li>\n",
       "\t<li>'utc_offset'</li>\n",
       "</ol>\n"
      ],
      "text/latex": [
       "\\begin{enumerate*}\n",
       "\\item 'component\\_1'\n",
       "\\item 'component\\_2'\n",
       "\\item 'component\\_3'\n",
       "\\item 'coop\\_id'\n",
       "\\item 'country\\_code'\n",
       "\\item 'elevation'\n",
       "\\item 'id'\n",
       "\\item 'id\\_place\\_holder'\n",
       "\\item 'latitude'\n",
       "\\item 'longitude'\n",
       "\\item 'name'\n",
       "\\item 'network\\_code'\n",
       "\\item 'state'\n",
       "\\item 'utc\\_offset'\n",
       "\\end{enumerate*}\n"
      ],
      "text/markdown": [
       "1. 'component_1'\n",
       "2. 'component_2'\n",
       "3. 'component_3'\n",
       "4. 'coop_id'\n",
       "5. 'country_code'\n",
       "6. 'elevation'\n",
       "7. 'id'\n",
       "8. 'id_place_holder'\n",
       "9. 'latitude'\n",
       "10. 'longitude'\n",
       "11. 'name'\n",
       "12. 'network_code'\n",
       "13. 'state'\n",
       "14. 'utc_offset'\n",
       "\n",
       "\n"
      ],
      "text/plain": [
       " [1] \"component_1\"     \"component_2\"     \"component_3\"     \"coop_id\"        \n",
       " [5] \"country_code\"    \"elevation\"       \"id\"              \"id_place_holder\"\n",
       " [9] \"latitude\"        \"longitude\"       \"name\"            \"network_code\"   \n",
       "[13] \"state\"           \"utc_offset\"     "
      ]
     },
     "metadata": {},
     "output_type": "display_data"
    }
   ],
   "source": [
    "colnames(metadata)"
   ]
  },
  {
   "cell_type": "code",
   "execution_count": 3,
   "metadata": {},
   "outputs": [
    {
     "data": {
      "text/html": [
       "<table>\n",
       "<thead><tr><th scope=col>component_1</th><th scope=col>component_2</th><th scope=col>component_3</th><th scope=col>coop_id</th><th scope=col>country_code</th><th scope=col>elevation</th><th scope=col>id</th><th scope=col>id_place_holder</th><th scope=col>latitude</th><th scope=col>longitude</th><th scope=col>name</th><th scope=col>network_code</th><th scope=col>state</th><th scope=col>utc_offset</th></tr></thead>\n",
       "<tbody>\n",
       "\t<tr><td>------                        </td><td>------                        </td><td>------                        </td><td>11084                         </td><td>US                            </td><td> 25.9                         </td><td>USH00011084                   </td><td>0                             </td><td>31.0581                       </td><td>-87.0547                      </td><td>BREWTON 3 SSE                 </td><td>H                             </td><td>AL                            </td><td>6                             </td></tr>\n",
       "\t<tr><td>------                        </td><td>------                        </td><td>------                        </td><td>12813                         </td><td>US                            </td><td>  7.0                         </td><td>USH00012813                   </td><td>0                             </td><td>30.5467                       </td><td>-87.8808                      </td><td>FAIRHOPE 2 NE                 </td><td>H                             </td><td>AL                            </td><td>6                             </td></tr>\n",
       "\t<tr><td>011694                        </td><td>------                        </td><td>------                        </td><td>13160                         </td><td>US                            </td><td> 38.1                         </td><td>USH00013160                   </td><td>0                             </td><td>32.8347                       </td><td>-88.1342                      </td><td>GAINESVILLE LOCK              </td><td>H                             </td><td>AL                            </td><td>6                             </td></tr>\n",
       "\t<tr><td>------                        </td><td>------                        </td><td>------                        </td><td>13511                         </td><td>US                            </td><td> 67.1                         </td><td>USH00013511                   </td><td>0                             </td><td>32.7017                       </td><td>-87.5808                      </td><td>GREENSBORO                    </td><td>H                             </td><td>AL                            </td><td>6                             </td></tr>\n",
       "\t<tr><td>------                        </td><td>------                        </td><td>------                        </td><td>13816                         </td><td>US                            </td><td>132.0                         </td><td>USH00013816                   </td><td>0                             </td><td>31.8700                       </td><td>-86.2542                      </td><td>HIGHLAND HOME                 </td><td>H                             </td><td>AL                            </td><td>6                             </td></tr>\n",
       "\t<tr><td>------                        </td><td>------                        </td><td>------                        </td><td>15749                         </td><td>US                            </td><td>164.6                         </td><td>USH00015749                   </td><td>0                             </td><td>34.7442                       </td><td>-87.5997                      </td><td>MUSCLE SHOALS AP              </td><td>H                             </td><td>AL                            </td><td>6                             </td></tr>\n",
       "</tbody>\n",
       "</table>\n"
      ],
      "text/latex": [
       "\\begin{tabular}{r|llllllllllllll}\n",
       " component\\_1 & component\\_2 & component\\_3 & coop\\_id & country\\_code & elevation & id & id\\_place\\_holder & latitude & longitude & name & network\\_code & state & utc\\_offset\\\\\n",
       "\\hline\n",
       "\t ------                         & ------                         & ------                         & 11084                          & US                             &  25.9                          & USH00011084                    & 0                              & 31.0581                        & -87.0547                       & BREWTON 3 SSE                  & H                              & AL                             & 6                             \\\\\n",
       "\t ------                         & ------                         & ------                         & 12813                          & US                             &   7.0                          & USH00012813                    & 0                              & 30.5467                        & -87.8808                       & FAIRHOPE 2 NE                  & H                              & AL                             & 6                             \\\\\n",
       "\t 011694                         & ------                         & ------                         & 13160                          & US                             &  38.1                          & USH00013160                    & 0                              & 32.8347                        & -88.1342                       & GAINESVILLE LOCK               & H                              & AL                             & 6                             \\\\\n",
       "\t ------                         & ------                         & ------                         & 13511                          & US                             &  67.1                          & USH00013511                    & 0                              & 32.7017                        & -87.5808                       & GREENSBORO                     & H                              & AL                             & 6                             \\\\\n",
       "\t ------                         & ------                         & ------                         & 13816                          & US                             & 132.0                          & USH00013816                    & 0                              & 31.8700                        & -86.2542                       & HIGHLAND HOME                  & H                              & AL                             & 6                             \\\\\n",
       "\t ------                         & ------                         & ------                         & 15749                          & US                             & 164.6                          & USH00015749                    & 0                              & 34.7442                        & -87.5997                       & MUSCLE SHOALS AP               & H                              & AL                             & 6                             \\\\\n",
       "\\end{tabular}\n"
      ],
      "text/markdown": [
       "\n",
       "| component_1 | component_2 | component_3 | coop_id | country_code | elevation | id | id_place_holder | latitude | longitude | name | network_code | state | utc_offset |\n",
       "|---|---|---|---|---|---|---|---|---|---|---|---|---|---|\n",
       "| ------                         | ------                         | ------                         | 11084                          | US                             |  25.9                          | USH00011084                    | 0                              | 31.0581                        | -87.0547                       | BREWTON 3 SSE                  | H                              | AL                             | 6                              |\n",
       "| ------                         | ------                         | ------                         | 12813                          | US                             |   7.0                          | USH00012813                    | 0                              | 30.5467                        | -87.8808                       | FAIRHOPE 2 NE                  | H                              | AL                             | 6                              |\n",
       "| 011694                         | ------                         | ------                         | 13160                          | US                             |  38.1                          | USH00013160                    | 0                              | 32.8347                        | -88.1342                       | GAINESVILLE LOCK               | H                              | AL                             | 6                              |\n",
       "| ------                         | ------                         | ------                         | 13511                          | US                             |  67.1                          | USH00013511                    | 0                              | 32.7017                        | -87.5808                       | GREENSBORO                     | H                              | AL                             | 6                              |\n",
       "| ------                         | ------                         | ------                         | 13816                          | US                             | 132.0                          | USH00013816                    | 0                              | 31.8700                        | -86.2542                       | HIGHLAND HOME                  | H                              | AL                             | 6                              |\n",
       "| ------                         | ------                         | ------                         | 15749                          | US                             | 164.6                          | USH00015749                    | 0                              | 34.7442                        | -87.5997                       | MUSCLE SHOALS AP               | H                              | AL                             | 6                              |\n",
       "\n"
      ],
      "text/plain": [
       "  component_1 component_2 component_3 coop_id country_code elevation\n",
       "1 ------      ------      ------      11084   US            25.9    \n",
       "2 ------      ------      ------      12813   US             7.0    \n",
       "3 011694      ------      ------      13160   US            38.1    \n",
       "4 ------      ------      ------      13511   US            67.1    \n",
       "5 ------      ------      ------      13816   US           132.0    \n",
       "6 ------      ------      ------      15749   US           164.6    \n",
       "  id          id_place_holder latitude longitude name                          \n",
       "1 USH00011084 0               31.0581  -87.0547  BREWTON 3 SSE                 \n",
       "2 USH00012813 0               30.5467  -87.8808  FAIRHOPE 2 NE                 \n",
       "3 USH00013160 0               32.8347  -88.1342  GAINESVILLE LOCK              \n",
       "4 USH00013511 0               32.7017  -87.5808  GREENSBORO                    \n",
       "5 USH00013816 0               31.8700  -86.2542  HIGHLAND HOME                 \n",
       "6 USH00015749 0               34.7442  -87.5997  MUSCLE SHOALS AP              \n",
       "  network_code state utc_offset\n",
       "1 H            AL    6         \n",
       "2 H            AL    6         \n",
       "3 H            AL    6         \n",
       "4 H            AL    6         \n",
       "5 H            AL    6         \n",
       "6 H            AL    6         "
      ]
     },
     "metadata": {},
     "output_type": "display_data"
    },
    {
     "data": {
      "text/html": [
       "<table>\n",
       "<thead><tr><th scope=col>X</th><th scope=col>dmflag0</th><th scope=col>dmflag1</th><th scope=col>dmflag10</th><th scope=col>dmflag11</th><th scope=col>dmflag2</th><th scope=col>dmflag3</th><th scope=col>dmflag4</th><th scope=col>dmflag5</th><th scope=col>dmflag6</th><th scope=col>...</th><th scope=col>value11</th><th scope=col>value2</th><th scope=col>value3</th><th scope=col>value4</th><th scope=col>value5</th><th scope=col>value6</th><th scope=col>value7</th><th scope=col>value8</th><th scope=col>value9</th><th scope=col>year</th></tr></thead>\n",
       "<tbody>\n",
       "\t<tr><td>0    </td><td>     </td><td>     </td><td>     </td><td>     </td><td>     </td><td>     </td><td>     </td><td>     </td><td>     </td><td>...  </td><td>  432</td><td>-9999</td><td>-9999</td><td>-9999</td><td>-9999</td><td>-9999</td><td>-9999</td><td>-9999</td><td>-9999</td><td>1890 </td></tr>\n",
       "\t<tr><td>1    </td><td>     </td><td>     </td><td>     </td><td>     </td><td>     </td><td>     </td><td>     </td><td>     </td><td>     </td><td>...  </td><td> 1333</td><td> 1461</td><td>  419</td><td>  699</td><td> 1702</td><td> 1080</td><td>  437</td><td>  508</td><td>    0</td><td>1891 </td></tr>\n",
       "\t<tr><td>2    </td><td>     </td><td>     </td><td>     </td><td>     </td><td>     </td><td>     </td><td>     </td><td>     </td><td>     </td><td>...  </td><td>-9999</td><td>  650</td><td>  406</td><td>  965</td><td> 1981</td><td> 3114</td><td> 3442</td><td>  762</td><td>  254</td><td>1892 </td></tr>\n",
       "\t<tr><td>3    </td><td>     </td><td>     </td><td>     </td><td>     </td><td>     </td><td>     </td><td>     </td><td>     </td><td>     </td><td>...  </td><td> 1237</td><td> 1181</td><td>  965</td><td> 1854</td><td>  876</td><td> 1080</td><td> 1638</td><td>  876</td><td> 1613</td><td>1893 </td></tr>\n",
       "\t<tr><td>4    </td><td>     </td><td>     </td><td>     </td><td>     </td><td>     </td><td>     </td><td>     </td><td>     </td><td>     </td><td>...  </td><td>  191</td><td> 2002</td><td>  572</td><td> 1181</td><td>  673</td><td>-9999</td><td>-9999</td><td>-9999</td><td>   76</td><td>1894 </td></tr>\n",
       "\t<tr><td>5    </td><td>     </td><td>     </td><td>     </td><td>     </td><td>     </td><td>     </td><td>     </td><td>     </td><td>     </td><td>...  </td><td>  762</td><td> 1016</td><td> 1016</td><td> 1016</td><td> 1016</td><td>  762</td><td>-9999</td><td>-9999</td><td>  508</td><td>1895 </td></tr>\n",
       "</tbody>\n",
       "</table>\n"
      ],
      "text/latex": [
       "\\begin{tabular}{r|lllllllllllllllllllllllllllllllllllllllllllllllllll}\n",
       " X & dmflag0 & dmflag1 & dmflag10 & dmflag11 & dmflag2 & dmflag3 & dmflag4 & dmflag5 & dmflag6 & ... & value11 & value2 & value3 & value4 & value5 & value6 & value7 & value8 & value9 & year\\\\\n",
       "\\hline\n",
       "\t 0     &       &       &       &       &       &       &       &       &       & ...   &   432 & -9999 & -9999 & -9999 & -9999 & -9999 & -9999 & -9999 & -9999 & 1890 \\\\\n",
       "\t 1     &       &       &       &       &       &       &       &       &       & ...   &  1333 &  1461 &   419 &   699 &  1702 &  1080 &   437 &   508 &     0 & 1891 \\\\\n",
       "\t 2     &       &       &       &       &       &       &       &       &       & ...   & -9999 &   650 &   406 &   965 &  1981 &  3114 &  3442 &   762 &   254 & 1892 \\\\\n",
       "\t 3     &       &       &       &       &       &       &       &       &       & ...   &  1237 &  1181 &   965 &  1854 &   876 &  1080 &  1638 &   876 &  1613 & 1893 \\\\\n",
       "\t 4     &       &       &       &       &       &       &       &       &       & ...   &   191 &  2002 &   572 &  1181 &   673 & -9999 & -9999 & -9999 &    76 & 1894 \\\\\n",
       "\t 5     &       &       &       &       &       &       &       &       &       & ...   &   762 &  1016 &  1016 &  1016 &  1016 &   762 & -9999 & -9999 &   508 & 1895 \\\\\n",
       "\\end{tabular}\n"
      ],
      "text/markdown": [
       "\n",
       "| X | dmflag0 | dmflag1 | dmflag10 | dmflag11 | dmflag2 | dmflag3 | dmflag4 | dmflag5 | dmflag6 | ... | value11 | value2 | value3 | value4 | value5 | value6 | value7 | value8 | value9 | year |\n",
       "|---|---|---|---|---|---|---|---|---|---|---|---|---|---|---|---|---|---|---|---|---|\n",
       "| 0     |       |       |       |       |       |       |       |       |       | ...   |   432 | -9999 | -9999 | -9999 | -9999 | -9999 | -9999 | -9999 | -9999 | 1890  |\n",
       "| 1     |       |       |       |       |       |       |       |       |       | ...   |  1333 |  1461 |   419 |   699 |  1702 |  1080 |   437 |   508 |     0 | 1891  |\n",
       "| 2     |       |       |       |       |       |       |       |       |       | ...   | -9999 |   650 |   406 |   965 |  1981 |  3114 |  3442 |   762 |   254 | 1892  |\n",
       "| 3     |       |       |       |       |       |       |       |       |       | ...   |  1237 |  1181 |   965 |  1854 |   876 |  1080 |  1638 |   876 |  1613 | 1893  |\n",
       "| 4     |       |       |       |       |       |       |       |       |       | ...   |   191 |  2002 |   572 |  1181 |   673 | -9999 | -9999 | -9999 |    76 | 1894  |\n",
       "| 5     |       |       |       |       |       |       |       |       |       | ...   |   762 |  1016 |  1016 |  1016 |  1016 |   762 | -9999 | -9999 |   508 | 1895  |\n",
       "\n"
      ],
      "text/plain": [
       "  X dmflag0 dmflag1 dmflag10 dmflag11 dmflag2 dmflag3 dmflag4 dmflag5 dmflag6\n",
       "1 0                                                                          \n",
       "2 1                                                                          \n",
       "3 2                                                                          \n",
       "4 3                                                                          \n",
       "5 4                                                                          \n",
       "6 5                                                                          \n",
       "  ... value11 value2 value3 value4 value5 value6 value7 value8 value9 year\n",
       "1 ...   432   -9999  -9999  -9999  -9999  -9999  -9999  -9999  -9999  1890\n",
       "2 ...  1333    1461    419    699   1702   1080    437    508      0  1891\n",
       "3 ... -9999     650    406    965   1981   3114   3442    762    254  1892\n",
       "4 ...  1237    1181    965   1854    876   1080   1638    876   1613  1893\n",
       "5 ...   191    2002    572   1181    673  -9999  -9999  -9999     76  1894\n",
       "6 ...   762    1016   1016   1016   1016    762  -9999  -9999    508  1895"
      ]
     },
     "metadata": {},
     "output_type": "display_data"
    },
    {
     "data": {
      "text/html": [
       "<table>\n",
       "<thead><tr><th scope=col>X</th><th scope=col>dmflag0</th><th scope=col>dmflag1</th><th scope=col>dmflag10</th><th scope=col>dmflag11</th><th scope=col>dmflag2</th><th scope=col>dmflag3</th><th scope=col>dmflag4</th><th scope=col>dmflag5</th><th scope=col>dmflag6</th><th scope=col>...</th><th scope=col>value11</th><th scope=col>value2</th><th scope=col>value3</th><th scope=col>value4</th><th scope=col>value5</th><th scope=col>value6</th><th scope=col>value7</th><th scope=col>value8</th><th scope=col>value9</th><th scope=col>year</th></tr></thead>\n",
       "<tbody>\n",
       "\t<tr><td>0    </td><td>     </td><td>     </td><td>     </td><td>     </td><td>     </td><td>     </td><td>     </td><td>     </td><td>     </td><td>...  </td><td>-9999</td><td>-9999</td><td>-9999</td><td>-9999</td><td>-9999</td><td>-9999</td><td>  304</td><td>-9999</td><td>-9999</td><td>1917 </td></tr>\n",
       "\t<tr><td>1    </td><td>     </td><td>     </td><td>     </td><td>     </td><td>     </td><td>     </td><td>     </td><td>     </td><td>     </td><td>...  </td><td> 1996</td><td>  226</td><td> 2824</td><td> 1045</td><td>  938</td><td>  823</td><td>-9999</td><td> 1072</td><td> 2690</td><td>1918 </td></tr>\n",
       "\t<tr><td>2    </td><td>     </td><td>     </td><td>     </td><td>     </td><td>     </td><td>     </td><td>     </td><td>     </td><td>     </td><td>...  </td><td>  888</td><td> 1537</td><td> 1326</td><td> 1706</td><td>  470</td><td> 3415</td><td> 2398</td><td>  710</td><td> 2936</td><td>1919 </td></tr>\n",
       "\t<tr><td>3    </td><td>     </td><td>     </td><td>     </td><td>     </td><td>     </td><td>     </td><td>     </td><td>a    </td><td>     </td><td>...  </td><td> 1267</td><td>  560</td><td> 1825</td><td>  908</td><td> 1967</td><td> 2291</td><td> 2172</td><td> 3526</td><td>  401</td><td>1920 </td></tr>\n",
       "\t<tr><td>4    </td><td>     </td><td>     </td><td>     </td><td>     </td><td>     </td><td>     </td><td>     </td><td>     </td><td>     </td><td>...  </td><td> 1024</td><td> 1478</td><td> 1234</td><td>  958</td><td>  186</td><td> 2266</td><td> 2022</td><td>  686</td><td>  435</td><td>1921 </td></tr>\n",
       "\t<tr><td>5    </td><td>     </td><td>     </td><td>     </td><td>g    </td><td>     </td><td>     </td><td>     </td><td>     </td><td>     </td><td>...  </td><td> 2535</td><td> 1765</td><td>  396</td><td> 2616</td><td> 1415</td><td> 1454</td><td> 2002</td><td> 1052</td><td>  754</td><td>1922 </td></tr>\n",
       "</tbody>\n",
       "</table>\n"
      ],
      "text/latex": [
       "\\begin{tabular}{r|lllllllllllllllllllllllllllllllllllllllllllllllllll}\n",
       " X & dmflag0 & dmflag1 & dmflag10 & dmflag11 & dmflag2 & dmflag3 & dmflag4 & dmflag5 & dmflag6 & ... & value11 & value2 & value3 & value4 & value5 & value6 & value7 & value8 & value9 & year\\\\\n",
       "\\hline\n",
       "\t 0     &       &       &       &       &       &       &       &       &       & ...   & -9999 & -9999 & -9999 & -9999 & -9999 & -9999 &   304 & -9999 & -9999 & 1917 \\\\\n",
       "\t 1     &       &       &       &       &       &       &       &       &       & ...   &  1996 &   226 &  2824 &  1045 &   938 &   823 & -9999 &  1072 &  2690 & 1918 \\\\\n",
       "\t 2     &       &       &       &       &       &       &       &       &       & ...   &   888 &  1537 &  1326 &  1706 &   470 &  3415 &  2398 &   710 &  2936 & 1919 \\\\\n",
       "\t 3     &       &       &       &       &       &       &       & a     &       & ...   &  1267 &   560 &  1825 &   908 &  1967 &  2291 &  2172 &  3526 &   401 & 1920 \\\\\n",
       "\t 4     &       &       &       &       &       &       &       &       &       & ...   &  1024 &  1478 &  1234 &   958 &   186 &  2266 &  2022 &   686 &   435 & 1921 \\\\\n",
       "\t 5     &       &       &       & g     &       &       &       &       &       & ...   &  2535 &  1765 &   396 &  2616 &  1415 &  1454 &  2002 &  1052 &   754 & 1922 \\\\\n",
       "\\end{tabular}\n"
      ],
      "text/markdown": [
       "\n",
       "| X | dmflag0 | dmflag1 | dmflag10 | dmflag11 | dmflag2 | dmflag3 | dmflag4 | dmflag5 | dmflag6 | ... | value11 | value2 | value3 | value4 | value5 | value6 | value7 | value8 | value9 | year |\n",
       "|---|---|---|---|---|---|---|---|---|---|---|---|---|---|---|---|---|---|---|---|---|\n",
       "| 0     |       |       |       |       |       |       |       |       |       | ...   | -9999 | -9999 | -9999 | -9999 | -9999 | -9999 |   304 | -9999 | -9999 | 1917  |\n",
       "| 1     |       |       |       |       |       |       |       |       |       | ...   |  1996 |   226 |  2824 |  1045 |   938 |   823 | -9999 |  1072 |  2690 | 1918  |\n",
       "| 2     |       |       |       |       |       |       |       |       |       | ...   |   888 |  1537 |  1326 |  1706 |   470 |  3415 |  2398 |   710 |  2936 | 1919  |\n",
       "| 3     |       |       |       |       |       |       |       | a     |       | ...   |  1267 |   560 |  1825 |   908 |  1967 |  2291 |  2172 |  3526 |   401 | 1920  |\n",
       "| 4     |       |       |       |       |       |       |       |       |       | ...   |  1024 |  1478 |  1234 |   958 |   186 |  2266 |  2022 |   686 |   435 | 1921  |\n",
       "| 5     |       |       |       | g     |       |       |       |       |       | ...   |  2535 |  1765 |   396 |  2616 |  1415 |  1454 |  2002 |  1052 |   754 | 1922  |\n",
       "\n"
      ],
      "text/plain": [
       "  X dmflag0 dmflag1 dmflag10 dmflag11 dmflag2 dmflag3 dmflag4 dmflag5 dmflag6\n",
       "1 0                                                                          \n",
       "2 1                                                                          \n",
       "3 2                                                                          \n",
       "4 3                                                           a              \n",
       "5 4                                                                          \n",
       "6 5                          g                                               \n",
       "  ... value11 value2 value3 value4 value5 value6 value7 value8 value9 year\n",
       "1 ... -9999   -9999  -9999  -9999  -9999  -9999    304  -9999  -9999  1917\n",
       "2 ...  1996     226   2824   1045    938    823  -9999   1072   2690  1918\n",
       "3 ...   888    1537   1326   1706    470   3415   2398    710   2936  1919\n",
       "4 ...  1267     560   1825    908   1967   2291   2172   3526    401  1920\n",
       "5 ...  1024    1478   1234    958    186   2266   2022    686    435  1921\n",
       "6 ...  2535    1765    396   2616   1415   1454   2002   1052    754  1922"
      ]
     },
     "metadata": {},
     "output_type": "display_data"
    },
    {
     "data": {
      "text/html": [
       "<table>\n",
       "<thead><tr><th scope=col>X</th><th scope=col>dmflag0</th><th scope=col>dmflag1</th><th scope=col>dmflag10</th><th scope=col>dmflag11</th><th scope=col>dmflag2</th><th scope=col>dmflag3</th><th scope=col>dmflag4</th><th scope=col>dmflag5</th><th scope=col>dmflag6</th><th scope=col>...</th><th scope=col>value11</th><th scope=col>value2</th><th scope=col>value3</th><th scope=col>value4</th><th scope=col>value5</th><th scope=col>value6</th><th scope=col>value7</th><th scope=col>value8</th><th scope=col>value9</th><th scope=col>year</th></tr></thead>\n",
       "<tbody>\n",
       "\t<tr><td>0   </td><td>.   </td><td>    </td><td>.   </td><td>.   </td><td>b   </td><td>    </td><td>.   </td><td>.   </td><td>.   </td><td>... </td><td> 582</td><td> 591</td><td> 561</td><td>1760</td><td> 935</td><td>1572</td><td>  51</td><td>676 </td><td>307 </td><td>1893</td></tr>\n",
       "\t<tr><td>1   </td><td>.   </td><td>.   </td><td>.   </td><td>.   </td><td>.   </td><td>    </td><td>    </td><td>    </td><td>    </td><td>... </td><td>1201</td><td>1240</td><td>1222</td><td> 549</td><td> 673</td><td> 480</td><td>2080</td><td>216 </td><td>752 </td><td>1894</td></tr>\n",
       "\t<tr><td>2   </td><td>.   </td><td>.   </td><td>    </td><td>    </td><td>.   </td><td>    </td><td>    </td><td>    </td><td>    </td><td>... </td><td> 981</td><td>2322</td><td> 498</td><td> 826</td><td> 574</td><td>1293</td><td> 668</td><td>254 </td><td>533 </td><td>1895</td></tr>\n",
       "\t<tr><td>3   </td><td>    </td><td>    </td><td>    </td><td>    </td><td>    </td><td>    </td><td>    </td><td>    </td><td>    </td><td>... </td><td> 589</td><td>1553</td><td>1249</td><td>1490</td><td>1694</td><td>1018</td><td> 407</td><td>157 </td><td>446 </td><td>1896</td></tr>\n",
       "\t<tr><td>4   </td><td>    </td><td>    </td><td>    </td><td>    </td><td>    </td><td>    </td><td>    </td><td>    </td><td>    </td><td>... </td><td> 266</td><td>1921</td><td> 352</td><td> 102</td><td>  94</td><td> 142</td><td> 267</td><td>178 </td><td> 13 </td><td>1897</td></tr>\n",
       "\t<tr><td>5   </td><td>    </td><td>    </td><td>.   </td><td>.   </td><td>    </td><td>    </td><td>    </td><td>    </td><td>    </td><td>... </td><td> 937</td><td> 547</td><td> 757</td><td>  25</td><td> 521</td><td>1025</td><td> 822</td><td>167 </td><td>529 </td><td>1898</td></tr>\n",
       "</tbody>\n",
       "</table>\n"
      ],
      "text/latex": [
       "\\begin{tabular}{r|lllllllllllllllllllllllllllllllllllllllllllllllllll}\n",
       " X & dmflag0 & dmflag1 & dmflag10 & dmflag11 & dmflag2 & dmflag3 & dmflag4 & dmflag5 & dmflag6 & ... & value11 & value2 & value3 & value4 & value5 & value6 & value7 & value8 & value9 & year\\\\\n",
       "\\hline\n",
       "\t 0    & .    &      & .    & .    & b    &      & .    & .    & .    & ...  &  582 &  591 &  561 & 1760 &  935 & 1572 &   51 & 676  & 307  & 1893\\\\\n",
       "\t 1    & .    & .    & .    & .    & .    &      &      &      &      & ...  & 1201 & 1240 & 1222 &  549 &  673 &  480 & 2080 & 216  & 752  & 1894\\\\\n",
       "\t 2    & .    & .    &      &      & .    &      &      &      &      & ...  &  981 & 2322 &  498 &  826 &  574 & 1293 &  668 & 254  & 533  & 1895\\\\\n",
       "\t 3    &      &      &      &      &      &      &      &      &      & ...  &  589 & 1553 & 1249 & 1490 & 1694 & 1018 &  407 & 157  & 446  & 1896\\\\\n",
       "\t 4    &      &      &      &      &      &      &      &      &      & ...  &  266 & 1921 &  352 &  102 &   94 &  142 &  267 & 178  &  13  & 1897\\\\\n",
       "\t 5    &      &      & .    & .    &      &      &      &      &      & ...  &  937 &  547 &  757 &   25 &  521 & 1025 &  822 & 167  & 529  & 1898\\\\\n",
       "\\end{tabular}\n"
      ],
      "text/markdown": [
       "\n",
       "| X | dmflag0 | dmflag1 | dmflag10 | dmflag11 | dmflag2 | dmflag3 | dmflag4 | dmflag5 | dmflag6 | ... | value11 | value2 | value3 | value4 | value5 | value6 | value7 | value8 | value9 | year |\n",
       "|---|---|---|---|---|---|---|---|---|---|---|---|---|---|---|---|---|---|---|---|---|\n",
       "| 0    | .    |      | .    | .    | b    |      | .    | .    | .    | ...  |  582 |  591 |  561 | 1760 |  935 | 1572 |   51 | 676  | 307  | 1893 |\n",
       "| 1    | .    | .    | .    | .    | .    |      |      |      |      | ...  | 1201 | 1240 | 1222 |  549 |  673 |  480 | 2080 | 216  | 752  | 1894 |\n",
       "| 2    | .    | .    |      |      | .    |      |      |      |      | ...  |  981 | 2322 |  498 |  826 |  574 | 1293 |  668 | 254  | 533  | 1895 |\n",
       "| 3    |      |      |      |      |      |      |      |      |      | ...  |  589 | 1553 | 1249 | 1490 | 1694 | 1018 |  407 | 157  | 446  | 1896 |\n",
       "| 4    |      |      |      |      |      |      |      |      |      | ...  |  266 | 1921 |  352 |  102 |   94 |  142 |  267 | 178  |  13  | 1897 |\n",
       "| 5    |      |      | .    | .    |      |      |      |      |      | ...  |  937 |  547 |  757 |   25 |  521 | 1025 |  822 | 167  | 529  | 1898 |\n",
       "\n"
      ],
      "text/plain": [
       "  X dmflag0 dmflag1 dmflag10 dmflag11 dmflag2 dmflag3 dmflag4 dmflag5 dmflag6\n",
       "1 0 .               .        .        b               .       .       .      \n",
       "2 1 .       .       .        .        .                                      \n",
       "3 2 .       .                         .                                      \n",
       "4 3                                                                          \n",
       "5 4                                                                          \n",
       "6 5                 .        .                                               \n",
       "  ... value11 value2 value3 value4 value5 value6 value7 value8 value9 year\n",
       "1 ...  582     591    561   1760    935   1572     51   676    307    1893\n",
       "2 ... 1201    1240   1222    549    673    480   2080   216    752    1894\n",
       "3 ...  981    2322    498    826    574   1293    668   254    533    1895\n",
       "4 ...  589    1553   1249   1490   1694   1018    407   157    446    1896\n",
       "5 ...  266    1921    352    102     94    142    267   178     13    1897\n",
       "6 ...  937     547    757     25    521   1025    822   167    529    1898"
      ]
     },
     "metadata": {},
     "output_type": "display_data"
    }
   ],
   "source": [
    "head(metadata)\n",
    "head(brewton_prcp)\n",
    "head(fairhope_prcp)\n",
    "head(gainesville_prcp)"
   ]
  },
  {
   "cell_type": "markdown",
   "metadata": {},
   "source": [
    "Notice that \"------\" represents missing values in the metadata file, and \"-9999\" represents missing values in the files that contain data for each station."
   ]
  },
  {
   "cell_type": "code",
   "execution_count": 4,
   "metadata": {
    "scrolled": true
   },
   "outputs": [
    {
     "data": {
      "text/html": [
       "<ol class=list-inline>\n",
       "\t<li>1218</li>\n",
       "\t<li>14</li>\n",
       "</ol>\n"
      ],
      "text/latex": [
       "\\begin{enumerate*}\n",
       "\\item 1218\n",
       "\\item 14\n",
       "\\end{enumerate*}\n"
      ],
      "text/markdown": [
       "1. 1218\n",
       "2. 14\n",
       "\n",
       "\n"
      ],
      "text/plain": [
       "[1] 1218   14"
      ]
     },
     "metadata": {},
     "output_type": "display_data"
    }
   ],
   "source": [
    "dim(metadata)"
   ]
  },
  {
   "cell_type": "markdown",
   "metadata": {},
   "source": [
    "There are 1218 stations total according to the metadata, but we'll only look at 3 of these stations for the purposes of this project: Brewton, Fairhope, and Gainesville in Alabama."
   ]
  },
  {
   "cell_type": "code",
   "execution_count": 5,
   "metadata": {},
   "outputs": [
    {
     "data": {
      "text/html": [
       "<ol class=list-inline>\n",
       "\t<li>'X'</li>\n",
       "\t<li>'dmflag0'</li>\n",
       "\t<li>'dmflag1'</li>\n",
       "\t<li>'dmflag10'</li>\n",
       "\t<li>'dmflag11'</li>\n",
       "\t<li>'dmflag2'</li>\n",
       "\t<li>'dmflag3'</li>\n",
       "\t<li>'dmflag4'</li>\n",
       "\t<li>'dmflag5'</li>\n",
       "\t<li>'dmflag6'</li>\n",
       "\t<li>'dmflag7'</li>\n",
       "\t<li>'dmflag8'</li>\n",
       "\t<li>'dmflag9'</li>\n",
       "\t<li>'dsflag0'</li>\n",
       "\t<li>'dsflag1'</li>\n",
       "\t<li>'dsflag10'</li>\n",
       "\t<li>'dsflag11'</li>\n",
       "\t<li>'dsflag2'</li>\n",
       "\t<li>'dsflag3'</li>\n",
       "\t<li>'dsflag4'</li>\n",
       "\t<li>'dsflag5'</li>\n",
       "\t<li>'dsflag6'</li>\n",
       "\t<li>'dsflag7'</li>\n",
       "\t<li>'dsflag8'</li>\n",
       "\t<li>'dsflag9'</li>\n",
       "\t<li>'id'</li>\n",
       "\t<li>'qcflag0'</li>\n",
       "\t<li>'qcflag1'</li>\n",
       "\t<li>'qcflag10'</li>\n",
       "\t<li>'qcflag11'</li>\n",
       "\t<li>'qcflag2'</li>\n",
       "\t<li>'qcflag3'</li>\n",
       "\t<li>'qcflag4'</li>\n",
       "\t<li>'qcflag5'</li>\n",
       "\t<li>'qcflag6'</li>\n",
       "\t<li>'qcflag7'</li>\n",
       "\t<li>'qcflag8'</li>\n",
       "\t<li>'qcflag9'</li>\n",
       "\t<li>'value0'</li>\n",
       "\t<li>'value1'</li>\n",
       "\t<li>'value10'</li>\n",
       "\t<li>'value11'</li>\n",
       "\t<li>'value2'</li>\n",
       "\t<li>'value3'</li>\n",
       "\t<li>'value4'</li>\n",
       "\t<li>'value5'</li>\n",
       "\t<li>'value6'</li>\n",
       "\t<li>'value7'</li>\n",
       "\t<li>'value8'</li>\n",
       "\t<li>'value9'</li>\n",
       "\t<li>'year'</li>\n",
       "</ol>\n"
      ],
      "text/latex": [
       "\\begin{enumerate*}\n",
       "\\item 'X'\n",
       "\\item 'dmflag0'\n",
       "\\item 'dmflag1'\n",
       "\\item 'dmflag10'\n",
       "\\item 'dmflag11'\n",
       "\\item 'dmflag2'\n",
       "\\item 'dmflag3'\n",
       "\\item 'dmflag4'\n",
       "\\item 'dmflag5'\n",
       "\\item 'dmflag6'\n",
       "\\item 'dmflag7'\n",
       "\\item 'dmflag8'\n",
       "\\item 'dmflag9'\n",
       "\\item 'dsflag0'\n",
       "\\item 'dsflag1'\n",
       "\\item 'dsflag10'\n",
       "\\item 'dsflag11'\n",
       "\\item 'dsflag2'\n",
       "\\item 'dsflag3'\n",
       "\\item 'dsflag4'\n",
       "\\item 'dsflag5'\n",
       "\\item 'dsflag6'\n",
       "\\item 'dsflag7'\n",
       "\\item 'dsflag8'\n",
       "\\item 'dsflag9'\n",
       "\\item 'id'\n",
       "\\item 'qcflag0'\n",
       "\\item 'qcflag1'\n",
       "\\item 'qcflag10'\n",
       "\\item 'qcflag11'\n",
       "\\item 'qcflag2'\n",
       "\\item 'qcflag3'\n",
       "\\item 'qcflag4'\n",
       "\\item 'qcflag5'\n",
       "\\item 'qcflag6'\n",
       "\\item 'qcflag7'\n",
       "\\item 'qcflag8'\n",
       "\\item 'qcflag9'\n",
       "\\item 'value0'\n",
       "\\item 'value1'\n",
       "\\item 'value10'\n",
       "\\item 'value11'\n",
       "\\item 'value2'\n",
       "\\item 'value3'\n",
       "\\item 'value4'\n",
       "\\item 'value5'\n",
       "\\item 'value6'\n",
       "\\item 'value7'\n",
       "\\item 'value8'\n",
       "\\item 'value9'\n",
       "\\item 'year'\n",
       "\\end{enumerate*}\n"
      ],
      "text/markdown": [
       "1. 'X'\n",
       "2. 'dmflag0'\n",
       "3. 'dmflag1'\n",
       "4. 'dmflag10'\n",
       "5. 'dmflag11'\n",
       "6. 'dmflag2'\n",
       "7. 'dmflag3'\n",
       "8. 'dmflag4'\n",
       "9. 'dmflag5'\n",
       "10. 'dmflag6'\n",
       "11. 'dmflag7'\n",
       "12. 'dmflag8'\n",
       "13. 'dmflag9'\n",
       "14. 'dsflag0'\n",
       "15. 'dsflag1'\n",
       "16. 'dsflag10'\n",
       "17. 'dsflag11'\n",
       "18. 'dsflag2'\n",
       "19. 'dsflag3'\n",
       "20. 'dsflag4'\n",
       "21. 'dsflag5'\n",
       "22. 'dsflag6'\n",
       "23. 'dsflag7'\n",
       "24. 'dsflag8'\n",
       "25. 'dsflag9'\n",
       "26. 'id'\n",
       "27. 'qcflag0'\n",
       "28. 'qcflag1'\n",
       "29. 'qcflag10'\n",
       "30. 'qcflag11'\n",
       "31. 'qcflag2'\n",
       "32. 'qcflag3'\n",
       "33. 'qcflag4'\n",
       "34. 'qcflag5'\n",
       "35. 'qcflag6'\n",
       "36. 'qcflag7'\n",
       "37. 'qcflag8'\n",
       "38. 'qcflag9'\n",
       "39. 'value0'\n",
       "40. 'value1'\n",
       "41. 'value10'\n",
       "42. 'value11'\n",
       "43. 'value2'\n",
       "44. 'value3'\n",
       "45. 'value4'\n",
       "46. 'value5'\n",
       "47. 'value6'\n",
       "48. 'value7'\n",
       "49. 'value8'\n",
       "50. 'value9'\n",
       "51. 'year'\n",
       "\n",
       "\n"
      ],
      "text/plain": [
       " [1] \"X\"        \"dmflag0\"  \"dmflag1\"  \"dmflag10\" \"dmflag11\" \"dmflag2\" \n",
       " [7] \"dmflag3\"  \"dmflag4\"  \"dmflag5\"  \"dmflag6\"  \"dmflag7\"  \"dmflag8\" \n",
       "[13] \"dmflag9\"  \"dsflag0\"  \"dsflag1\"  \"dsflag10\" \"dsflag11\" \"dsflag2\" \n",
       "[19] \"dsflag3\"  \"dsflag4\"  \"dsflag5\"  \"dsflag6\"  \"dsflag7\"  \"dsflag8\" \n",
       "[25] \"dsflag9\"  \"id\"       \"qcflag0\"  \"qcflag1\"  \"qcflag10\" \"qcflag11\"\n",
       "[31] \"qcflag2\"  \"qcflag3\"  \"qcflag4\"  \"qcflag5\"  \"qcflag6\"  \"qcflag7\" \n",
       "[37] \"qcflag8\"  \"qcflag9\"  \"value0\"   \"value1\"   \"value10\"  \"value11\" \n",
       "[43] \"value2\"   \"value3\"   \"value4\"   \"value5\"   \"value6\"   \"value7\"  \n",
       "[49] \"value8\"   \"value9\"   \"year\"    "
      ]
     },
     "metadata": {},
     "output_type": "display_data"
    }
   ],
   "source": [
    "colnames(brewton_prcp)"
   ]
  },
  {
   "cell_type": "markdown",
   "metadata": {},
   "source": [
    "### Cleaning the data and creating a dataframe of annual total precipitation"
   ]
  },
  {
   "cell_type": "markdown",
   "metadata": {},
   "source": [
    "Since we are only working with three stations, I chose to manually type out the following three similar processes to generate a dataframe of annual total precipitation for each station. The three processes are nearly identical, with the only changes being in the names of the stations, so they could easily be generalized into a function with a little text manipulation work. It didn't seem worth the time writing the function for only three stations; however, if I were to calculate annual total precipitation for each of the 1218 total weather stations, it would definitely be more efficient to write a function. "
   ]
  },
  {
   "cell_type": "code",
   "execution_count": 6,
   "metadata": {},
   "outputs": [],
   "source": [
    "brewton_prcp_cols <- c('value0', 'value1', 'value10', 'value11', 'value2', 'value3', \n",
    "                     'value4', 'value5', 'value6', 'value7', 'value8', 'value9')\n",
    "brewton_prcp_missing <- brewton_prcp[, brewton_prcp_cols]\n",
    "\n",
    "brewton_missing_values <- brewton_prcp_missing < 0\n",
    "brewton_prcp_no_missing <- replace(brewton_prcp_missing, brewton_missing_values, NA)\n",
    "\n",
    "brewton_prcp_totals <- apply(brewton_prcp_no_missing, 1 , sum, na.rm = TRUE)\n",
    "\n",
    "brewton_totals_year <- cbind(year = brewton_prcp$year, brewton_precip = brewton_prcp_totals)"
   ]
  },
  {
   "cell_type": "code",
   "execution_count": 7,
   "metadata": {},
   "outputs": [],
   "source": [
    "fairhope_prcp_cols <- c('value0', 'value1', 'value10', 'value11', 'value2', 'value3', \n",
    "                     'value4', 'value5', 'value6', 'value7', 'value8', 'value9')\n",
    "fairhope_prcp_missing <- fairhope_prcp[, fairhope_prcp_cols]\n",
    "\n",
    "fairhope_missing_values <- fairhope_prcp_missing < 0\n",
    "fairhope_prcp_no_missing <- replace(fairhope_prcp_missing, fairhope_missing_values, NA)\n",
    "\n",
    "fairhope_prcp_totals <- apply(fairhope_prcp_no_missing, 1 , sum, na.rm = TRUE)\n",
    "\n",
    "fairhope_totals_year <- cbind(year = fairhope_prcp$year, fairhope_precip = fairhope_prcp_totals)"
   ]
  },
  {
   "cell_type": "code",
   "execution_count": 8,
   "metadata": {},
   "outputs": [],
   "source": [
    "gainesville_prcp_cols <- c('value0', 'value1', 'value10', 'value11', 'value2', 'value3', \n",
    "                     'value4', 'value5', 'value6', 'value7', 'value8', 'value9')\n",
    "gainesville_prcp_missing <- gainesville_prcp[, gainesville_prcp_cols]\n",
    "\n",
    "gainesville_missing_values <- gainesville_prcp_missing < 0\n",
    "gainesville_prcp_no_missing <- replace(gainesville_prcp_missing, gainesville_missing_values, NA)\n",
    "\n",
    "gainesville_prcp_totals <- apply(gainesville_prcp_no_missing, 1 , sum, na.rm = TRUE)\n",
    "\n",
    "gainesville_totals_year <- cbind(year = gainesville_prcp$year, gainesville_precip = gainesville_prcp_totals)"
   ]
  },
  {
   "cell_type": "markdown",
   "metadata": {},
   "source": [
    "Now, let's merge each of the three separate dataframes into one that contains annual precipitation for all three stations. \n",
    "\n",
    "It's important to make sure to merge by year to match the rows up according to the year the correspond to because the different stations have different annual data. For example, based on our data exploration above, we know that the Brewton station has precipitation data from as early as the year 1890, whereas the other two stations started recording data later.  "
   ]
  },
  {
   "cell_type": "code",
   "execution_count": 9,
   "metadata": {},
   "outputs": [],
   "source": [
    "brewton_and_fairhope_annual_precip <- merge(brewton_totals_year, fairhope_totals_year, by = \"year\", all = TRUE)\n",
    "all_stations_annual_precip <- merge(brewton_and_fairhope_annual_precip, gainesville_totals_year, by = \"year\", all = TRUE)"
   ]
  },
  {
   "cell_type": "markdown",
   "metadata": {},
   "source": [
    "Let's take a peek at what our final combined dataset looks like! "
   ]
  },
  {
   "cell_type": "code",
   "execution_count": 10,
   "metadata": {},
   "outputs": [
    {
     "data": {
      "text/html": [
       "<table>\n",
       "<thead><tr><th scope=col>year</th><th scope=col>brewton_precip</th><th scope=col>fairhope_precip</th><th scope=col>gainesville_precip</th></tr></thead>\n",
       "<tbody>\n",
       "\t<tr><td>1890 </td><td>  432</td><td>NA   </td><td>   NA</td></tr>\n",
       "\t<tr><td>1891 </td><td>12823</td><td>NA   </td><td>   NA</td></tr>\n",
       "\t<tr><td>1892 </td><td>16273</td><td>NA   </td><td>   NA</td></tr>\n",
       "\t<tr><td>1893 </td><td>15460</td><td>NA   </td><td> 9928</td></tr>\n",
       "\t<tr><td>1894 </td><td> 9493</td><td>NA   </td><td>11026</td></tr>\n",
       "\t<tr><td>1895 </td><td> 6477</td><td>NA   </td><td>11021</td></tr>\n",
       "</tbody>\n",
       "</table>\n"
      ],
      "text/latex": [
       "\\begin{tabular}{r|llll}\n",
       " year & brewton\\_precip & fairhope\\_precip & gainesville\\_precip\\\\\n",
       "\\hline\n",
       "\t 1890  &   432 & NA    &    NA\\\\\n",
       "\t 1891  & 12823 & NA    &    NA\\\\\n",
       "\t 1892  & 16273 & NA    &    NA\\\\\n",
       "\t 1893  & 15460 & NA    &  9928\\\\\n",
       "\t 1894  &  9493 & NA    & 11026\\\\\n",
       "\t 1895  &  6477 & NA    & 11021\\\\\n",
       "\\end{tabular}\n"
      ],
      "text/markdown": [
       "\n",
       "| year | brewton_precip | fairhope_precip | gainesville_precip |\n",
       "|---|---|---|---|\n",
       "| 1890  |   432 | NA    |    NA |\n",
       "| 1891  | 12823 | NA    |    NA |\n",
       "| 1892  | 16273 | NA    |    NA |\n",
       "| 1893  | 15460 | NA    |  9928 |\n",
       "| 1894  |  9493 | NA    | 11026 |\n",
       "| 1895  |  6477 | NA    | 11021 |\n",
       "\n"
      ],
      "text/plain": [
       "  year brewton_precip fairhope_precip gainesville_precip\n",
       "1 1890   432          NA                 NA             \n",
       "2 1891 12823          NA                 NA             \n",
       "3 1892 16273          NA                 NA             \n",
       "4 1893 15460          NA               9928             \n",
       "5 1894  9493          NA              11026             \n",
       "6 1895  6477          NA              11021             "
      ]
     },
     "metadata": {},
     "output_type": "display_data"
    },
    {
     "data": {
      "text/html": [
       "<table>\n",
       "<thead><tr><th></th><th scope=col>year</th><th scope=col>brewton_precip</th><th scope=col>fairhope_precip</th><th scope=col>gainesville_precip</th></tr></thead>\n",
       "<tbody>\n",
       "\t<tr><th scope=row>125</th><td>2014 </td><td>16408</td><td>21398</td><td>14235</td></tr>\n",
       "\t<tr><th scope=row>126</th><td>2015 </td><td>   NA</td><td>17883</td><td>12332</td></tr>\n",
       "\t<tr><th scope=row>127</th><td>2016 </td><td>   NA</td><td>15896</td><td>10054</td></tr>\n",
       "\t<tr><th scope=row>128</th><td>2017 </td><td>   NA</td><td>21074</td><td>16161</td></tr>\n",
       "\t<tr><th scope=row>129</th><td>2018 </td><td>   NA</td><td>21323</td><td>17230</td></tr>\n",
       "\t<tr><th scope=row>130</th><td>2019 </td><td>   NA</td><td> 9887</td><td>11660</td></tr>\n",
       "</tbody>\n",
       "</table>\n"
      ],
      "text/latex": [
       "\\begin{tabular}{r|llll}\n",
       "  & year & brewton\\_precip & fairhope\\_precip & gainesville\\_precip\\\\\n",
       "\\hline\n",
       "\t125 & 2014  & 16408 & 21398 & 14235\\\\\n",
       "\t126 & 2015  &    NA & 17883 & 12332\\\\\n",
       "\t127 & 2016  &    NA & 15896 & 10054\\\\\n",
       "\t128 & 2017  &    NA & 21074 & 16161\\\\\n",
       "\t129 & 2018  &    NA & 21323 & 17230\\\\\n",
       "\t130 & 2019  &    NA &  9887 & 11660\\\\\n",
       "\\end{tabular}\n"
      ],
      "text/markdown": [
       "\n",
       "| <!--/--> | year | brewton_precip | fairhope_precip | gainesville_precip |\n",
       "|---|---|---|---|---|\n",
       "| 125 | 2014  | 16408 | 21398 | 14235 |\n",
       "| 126 | 2015  |    NA | 17883 | 12332 |\n",
       "| 127 | 2016  |    NA | 15896 | 10054 |\n",
       "| 128 | 2017  |    NA | 21074 | 16161 |\n",
       "| 129 | 2018  |    NA | 21323 | 17230 |\n",
       "| 130 | 2019  |    NA |  9887 | 11660 |\n",
       "\n"
      ],
      "text/plain": [
       "    year brewton_precip fairhope_precip gainesville_precip\n",
       "125 2014 16408          21398           14235             \n",
       "126 2015    NA          17883           12332             \n",
       "127 2016    NA          15896           10054             \n",
       "128 2017    NA          21074           16161             \n",
       "129 2018    NA          21323           17230             \n",
       "130 2019    NA           9887           11660             "
      ]
     },
     "metadata": {},
     "output_type": "display_data"
    }
   ],
   "source": [
    "head(all_stations_annual_precip)\n",
    "tail(all_stations_annual_precip)"
   ]
  },
  {
   "cell_type": "markdown",
   "metadata": {},
   "source": [
    "### Exploring the combined dataframe of total annual precipitation"
   ]
  },
  {
   "cell_type": "code",
   "execution_count": 11,
   "metadata": {},
   "outputs": [
    {
     "data": {
      "text/html": [
       "<ol class=list-inline>\n",
       "\t<li>130</li>\n",
       "\t<li>4</li>\n",
       "</ol>\n"
      ],
      "text/latex": [
       "\\begin{enumerate*}\n",
       "\\item 130\n",
       "\\item 4\n",
       "\\end{enumerate*}\n"
      ],
      "text/markdown": [
       "1. 130\n",
       "2. 4\n",
       "\n",
       "\n"
      ],
      "text/plain": [
       "[1] 130   4"
      ]
     },
     "metadata": {},
     "output_type": "display_data"
    }
   ],
   "source": [
    "dim(all_stations_annual_precip)"
   ]
  },
  {
   "cell_type": "code",
   "execution_count": 12,
   "metadata": {},
   "outputs": [
    {
     "data": {
      "text/html": [
       "129"
      ],
      "text/latex": [
       "129"
      ],
      "text/markdown": [
       "129"
      ],
      "text/plain": [
       "[1] 129"
      ]
     },
     "metadata": {},
     "output_type": "display_data"
    }
   ],
   "source": [
    "max(all_stations_annual_precip$year) - min(all_stations_annual_precip$year) "
   ]
  },
  {
   "cell_type": "code",
   "execution_count": 13,
   "metadata": {},
   "outputs": [
    {
     "data": {
      "text/html": [
       "62"
      ],
      "text/latex": [
       "62"
      ],
      "text/markdown": [
       "62"
      ],
      "text/plain": [
       "[1] 62"
      ]
     },
     "metadata": {},
     "output_type": "display_data"
    }
   ],
   "source": [
    "sum(is.na(all_stations_annual_precip))"
   ]
  },
  {
   "cell_type": "markdown",
   "metadata": {},
   "source": [
    "Looks like the dimensions of the final combined dataframe are 130 rows by 4 columns. This sounds about right, since we have one column dedicated to years and the other three columns dedicated to data from each of the three stations. \n",
    "\n",
    "Notice that there's a discrepancy between the number of rows and the range of years in the dataframe. This may appear concerning at first, but it's not an error! Recall that substraction gives us the span of the values, which is total value minus one. \n",
    "\n",
    "So, it looks like we're good on the dimensions of the final dataframe! At least based on this inspection, no data was lost in the merging process. \n",
    "\n",
    "However, note that there are 62 missing values total, both from the data cleaning step and from the merging step (not every station collected precipitation data for every year). "
   ]
  },
  {
   "cell_type": "markdown",
   "metadata": {},
   "source": [
    "### Creating a dataframe of decade total precipitation"
   ]
  },
  {
   "cell_type": "markdown",
   "metadata": {},
   "source": [
    "Building on our dataframe of annual total precipitation, we can also calculate decade total precipitation as well. "
   ]
  },
  {
   "cell_type": "code",
   "execution_count": 14,
   "metadata": {},
   "outputs": [],
   "source": [
    "all_decade <- cut(all_stations_annual_precip$year, breaks = seq(1880, 2020, by = 10), include.lowest = FALSE, dig.lab = 10)"
   ]
  },
  {
   "cell_type": "code",
   "execution_count": 15,
   "metadata": {},
   "outputs": [],
   "source": [
    "brewton_precipitation <- tapply(all_stations_annual_precip$brewton_precip, all_decade, sum, na.rm = TRUE)\n",
    "fairhope_precipitation <- tapply(all_stations_annual_precip$fairhope_precip, all_decade, sum, na.rm = TRUE)\n",
    "gainesville_precipitation <- tapply(all_stations_annual_precip$gainesville_precip, all_decade, sum, na.rm = TRUE)"
   ]
  },
  {
   "cell_type": "code",
   "execution_count": 16,
   "metadata": {},
   "outputs": [],
   "source": [
    "all_stations_decade_precip_missing <- cbind(brewton_precipitation, fairhope_precipitation, gainesville_precipitation)\n",
    "\n",
    "missing_decade <- all_stations_decade_precip_missing < 1\n",
    "\n",
    "all_stations_decade_precip <- replace(all_stations_decade_precip_missing, missing_decade, NA)"
   ]
  },
  {
   "cell_type": "markdown",
   "metadata": {},
   "source": [
    "Here's what the final dataframe looks like! This time, instead of just printing the beginning and the end, we can safely take a look at the entire dataframe of only 14 rows of data. "
   ]
  },
  {
   "cell_type": "code",
   "execution_count": 17,
   "metadata": {},
   "outputs": [
    {
     "data": {
      "text/html": [
       "<table>\n",
       "<thead><tr><th></th><th scope=col>brewton_precipitation</th><th scope=col>fairhope_precipitation</th><th scope=col>gainesville_precipitation</th></tr></thead>\n",
       "<tbody>\n",
       "\t<tr><th scope=row>(1880,1890]</th><td>   432</td><td>    NA</td><td>    NA</td></tr>\n",
       "\t<tr><th scope=row>(1890,1900]</th><td>102385</td><td>    NA</td><td> 83883</td></tr>\n",
       "\t<tr><th scope=row>(1900,1910]</th><td>    NA</td><td>    NA</td><td>134087</td></tr>\n",
       "\t<tr><th scope=row>(1910,1920]</th><td>    NA</td><td> 53333</td><td>141051</td></tr>\n",
       "\t<tr><th scope=row>(1920,1930]</th><td> 83086</td><td>157771</td><td>134748</td></tr>\n",
       "\t<tr><th scope=row>(1930,1940]</th><td>147280</td><td>151661</td><td>142845</td></tr>\n",
       "\t<tr><th scope=row>(1940,1950]</th><td>170332</td><td>184846</td><td>149687</td></tr>\n",
       "\t<tr><th scope=row>(1950,1960]</th><td>142295</td><td>158746</td><td>128033</td></tr>\n",
       "\t<tr><th scope=row>(1960,1970]</th><td>160448</td><td>156198</td><td>142495</td></tr>\n",
       "\t<tr><th scope=row>(1970,1980]</th><td>169215</td><td>172170</td><td>165982</td></tr>\n",
       "\t<tr><th scope=row>(1980,1990]</th><td>161503</td><td>165937</td><td>139266</td></tr>\n",
       "\t<tr><th scope=row>(1990,2000]</th><td>168057</td><td>176285</td><td>128047</td></tr>\n",
       "\t<tr><th scope=row>(2000,2010]</th><td>164595</td><td>174061</td><td>126799</td></tr>\n",
       "\t<tr><th scope=row>(2010,2020]</th><td> 58221</td><td>154176</td><td>122919</td></tr>\n",
       "</tbody>\n",
       "</table>\n"
      ],
      "text/latex": [
       "\\begin{tabular}{r|lll}\n",
       "  & brewton\\_precipitation & fairhope\\_precipitation & gainesville\\_precipitation\\\\\n",
       "\\hline\n",
       "\t(1880,1890{]} &    432 &     NA &     NA\\\\\n",
       "\t(1890,1900{]} & 102385 &     NA &  83883\\\\\n",
       "\t(1900,1910{]} &     NA &     NA & 134087\\\\\n",
       "\t(1910,1920{]} &     NA &  53333 & 141051\\\\\n",
       "\t(1920,1930{]} &  83086 & 157771 & 134748\\\\\n",
       "\t(1930,1940{]} & 147280 & 151661 & 142845\\\\\n",
       "\t(1940,1950{]} & 170332 & 184846 & 149687\\\\\n",
       "\t(1950,1960{]} & 142295 & 158746 & 128033\\\\\n",
       "\t(1960,1970{]} & 160448 & 156198 & 142495\\\\\n",
       "\t(1970,1980{]} & 169215 & 172170 & 165982\\\\\n",
       "\t(1980,1990{]} & 161503 & 165937 & 139266\\\\\n",
       "\t(1990,2000{]} & 168057 & 176285 & 128047\\\\\n",
       "\t(2000,2010{]} & 164595 & 174061 & 126799\\\\\n",
       "\t(2010,2020{]} &  58221 & 154176 & 122919\\\\\n",
       "\\end{tabular}\n"
      ],
      "text/markdown": [
       "\n",
       "| <!--/--> | brewton_precipitation | fairhope_precipitation | gainesville_precipitation |\n",
       "|---|---|---|---|\n",
       "| (1880,1890] |    432 |     NA |     NA |\n",
       "| (1890,1900] | 102385 |     NA |  83883 |\n",
       "| (1900,1910] |     NA |     NA | 134087 |\n",
       "| (1910,1920] |     NA |  53333 | 141051 |\n",
       "| (1920,1930] |  83086 | 157771 | 134748 |\n",
       "| (1930,1940] | 147280 | 151661 | 142845 |\n",
       "| (1940,1950] | 170332 | 184846 | 149687 |\n",
       "| (1950,1960] | 142295 | 158746 | 128033 |\n",
       "| (1960,1970] | 160448 | 156198 | 142495 |\n",
       "| (1970,1980] | 169215 | 172170 | 165982 |\n",
       "| (1980,1990] | 161503 | 165937 | 139266 |\n",
       "| (1990,2000] | 168057 | 176285 | 128047 |\n",
       "| (2000,2010] | 164595 | 174061 | 126799 |\n",
       "| (2010,2020] |  58221 | 154176 | 122919 |\n",
       "\n"
      ],
      "text/plain": [
       "            brewton_precipitation fairhope_precipitation\n",
       "(1880,1890]    432                    NA                \n",
       "(1890,1900] 102385                    NA                \n",
       "(1900,1910]     NA                    NA                \n",
       "(1910,1920]     NA                 53333                \n",
       "(1920,1930]  83086                157771                \n",
       "(1930,1940] 147280                151661                \n",
       "(1940,1950] 170332                184846                \n",
       "(1950,1960] 142295                158746                \n",
       "(1960,1970] 160448                156198                \n",
       "(1970,1980] 169215                172170                \n",
       "(1980,1990] 161503                165937                \n",
       "(1990,2000] 168057                176285                \n",
       "(2000,2010] 164595                174061                \n",
       "(2010,2020]  58221                154176                \n",
       "            gainesville_precipitation\n",
       "(1880,1890]     NA                   \n",
       "(1890,1900]  83883                   \n",
       "(1900,1910] 134087                   \n",
       "(1910,1920] 141051                   \n",
       "(1920,1930] 134748                   \n",
       "(1930,1940] 142845                   \n",
       "(1940,1950] 149687                   \n",
       "(1950,1960] 128033                   \n",
       "(1960,1970] 142495                   \n",
       "(1970,1980] 165982                   \n",
       "(1980,1990] 139266                   \n",
       "(1990,2000] 128047                   \n",
       "(2000,2010] 126799                   \n",
       "(2010,2020] 122919                   "
      ]
     },
     "metadata": {},
     "output_type": "display_data"
    }
   ],
   "source": [
    "all_stations_decade_precip"
   ]
  },
  {
   "cell_type": "markdown",
   "metadata": {},
   "source": [
    "### So we've cleaned, formatted, and merged the data. What now?"
   ]
  },
  {
   "cell_type": "markdown",
   "metadata": {},
   "source": [
    "Well, now that we have the data we need, there are plenty of places to go from here. It all comes down to what we're interested in finding. We could visualize the precipitation data from each of the three stations over time, we could take a deeper dive into individual years or decades, we could treat the data as representative of Alabama weather and compare it against that of other states, and so on and so forth! "
   ]
  }
 ],
 "metadata": {
  "kernelspec": {
   "display_name": "R",
   "language": "R",
   "name": "ir"
  },
  "language_info": {
   "codemirror_mode": "r",
   "file_extension": ".r",
   "mimetype": "text/x-r-source",
   "name": "R",
   "pygments_lexer": "r",
   "version": "3.6.1"
  }
 },
 "nbformat": 4,
 "nbformat_minor": 4
}
